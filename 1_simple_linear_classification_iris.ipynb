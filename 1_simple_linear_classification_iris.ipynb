{
  "nbformat": 4,
  "nbformat_minor": 0,
  "metadata": {
    "colab": {
      "name": "1_simple_linear_classification_iris.ipynb",
      "provenance": [],
      "collapsed_sections": [],
      "authorship_tag": "ABX9TyNDh/LP4WsttV07KAYQabev",
      "include_colab_link": true
    },
    "kernelspec": {
      "name": "python3",
      "display_name": "Python 3"
    }
  },
  "cells": [
    {
      "cell_type": "markdown",
      "metadata": {
        "id": "view-in-github",
        "colab_type": "text"
      },
      "source": [
        "<a href=\"https://colab.research.google.com/github/provincit/scikit-learn-tutorials/blob/master/1_simple_linear_classification_iris.ipynb\" target=\"_parent\"><img src=\"https://colab.research.google.com/assets/colab-badge.svg\" alt=\"Open In Colab\"/></a>"
      ]
    },
    {
      "cell_type": "markdown",
      "metadata": {
        "id": "ys3gJO23tJUd",
        "colab_type": "text"
      },
      "source": [
        "Load Iris data"
      ]
    },
    {
      "cell_type": "code",
      "metadata": {
        "id": "L3V2tu4Ksmz3",
        "colab_type": "code",
        "colab": {
          "base_uri": "https://localhost:8080/",
          "height": 51
        },
        "outputId": "72b8c098-0e6f-4080-d425-37e0ad890748"
      },
      "source": [
        "from sklearn import datasets\n",
        "iris = datasets.load_iris()\n",
        "\n",
        "# split\n",
        "X_iris, y_iris = iris.data, iris.target\n",
        "\n",
        "print(X_iris.shape)\n",
        "print(y_iris.shape)"
      ],
      "execution_count": 1,
      "outputs": [
        {
          "output_type": "stream",
          "text": [
            "(150, 4)\n",
            "(150,)\n"
          ],
          "name": "stdout"
        }
      ]
    },
    {
      "cell_type": "markdown",
      "metadata": {
        "id": "lc2qL1Y5tObP",
        "colab_type": "text"
      },
      "source": [
        "Import preprocessing functions"
      ]
    },
    {
      "cell_type": "code",
      "metadata": {
        "id": "zITxiyc6s35g",
        "colab_type": "code",
        "colab": {
          "base_uri": "https://localhost:8080/",
          "height": 51
        },
        "outputId": "6719dbc5-ede9-4d9e-8b26-057f5e353b14"
      },
      "source": [
        "from sklearn.model_selection import train_test_split\n",
        "from sklearn import preprocessing\n",
        "\n",
        "# Seek\n",
        "X, y = X_iris[:, :2], y_iris\n",
        "\n",
        "# split train and test set \n",
        "\n",
        "# Test set will be the 20 % taken randomly\n",
        "\n",
        "X_train, X_test, y_train, y_test = train_test_split(X, y, test_size=0.2, random_state=47)\n",
        "\n",
        "print(X_train.shape)\n",
        "\n",
        "print(y_train.shape)\n"
      ],
      "execution_count": 2,
      "outputs": [
        {
          "output_type": "stream",
          "text": [
            "(120, 2)\n",
            "(120,)\n"
          ],
          "name": "stdout"
        }
      ]
    },
    {
      "cell_type": "code",
      "metadata": {
        "id": "oPplvFeXwk8g",
        "colab_type": "code",
        "colab": {}
      },
      "source": [
        "# Standardize the features\n",
        "\n",
        "scaler = preprocessing.StandardScaler().fit(X_train)\n",
        "X_train = scaler.transform(X_train)\n",
        "X_test = scaler.transform(X_test)"
      ],
      "execution_count": 3,
      "outputs": []
    },
    {
      "cell_type": "code",
      "metadata": {
        "id": "aVoIDT_7w-tQ",
        "colab_type": "code",
        "colab": {
          "base_uri": "https://localhost:8080/",
          "height": 279
        },
        "outputId": "57040b9f-3c95-4b3e-884a-8284d7b5a4c8"
      },
      "source": [
        "import matplotlib.pyplot as plt\n",
        "\n",
        "colors = ['red', 'green', 'blue']\n",
        "\n",
        "for i in range(len(colors)):\n",
        "  xs = X_train[:, 0][y_train == i]\n",
        "  ys = X_train[:, 1][y_train == i]\n",
        "  plt.scatter(xs, ys, c=colors[i])\n",
        "  plt.legend(iris.target_names)\n",
        "  plt.xlabel('Sepal length')\n",
        "  plt.ylabel('Sepal width')"
      ],
      "execution_count": 4,
      "outputs": [
        {
          "output_type": "display_data",
          "data": {
            "image/png": "[encoded data removed]",
            "text/plain": [
              "<Figure size 432x288 with 1 Axes>"
            ]
          },
          "metadata": {
            "tags": [],
            "needs_background": "light"
          }
        }
      ]
    },
    {
      "cell_type": "markdown",
      "metadata": {
        "id": "8ET0dLt50wnn",
        "colab_type": "text"
      },
      "source": [
        "### Use SGD (Stochastic gradient descent)"
      ]
    },
    {
      "cell_type": "code",
      "metadata": {
        "id": "J5XgFVKW06GW",
        "colab_type": "code",
        "colab": {
          "base_uri": "https://localhost:8080/",
          "height": 68
        },
        "outputId": "e7a037da-4655-4a7e-c6e7-fae0bd44f9f5"
      },
      "source": [
        "from sklearn.linear_model import SGDClassifier\n",
        "clf = SGDClassifier()\n",
        "clf.fit(X_train, y_train)\n",
        "\n",
        "print(clf.coef_)"
      ],
      "execution_count": 5,
      "outputs": [
        {
          "output_type": "stream",
          "text": [
            "[[-28.74522592  19.08698234]\n",
            " [  0.63557431  -0.62506915]\n",
            " [  7.22565281  -5.68497825]]\n"
          ],
          "name": "stdout"
        }
      ]
    },
    {
      "cell_type": "code",
      "metadata": {
        "id": "12zcz9Hh4vh4",
        "colab_type": "code",
        "colab": {
          "base_uri": "https://localhost:8080/",
          "height": 34
        },
        "outputId": "bb889b44-bf9f-4b72-fc94-4f22a67b91de"
      },
      "source": [
        "print(clf.intercept_)"
      ],
      "execution_count": 6,
      "outputs": [
        {
          "output_type": "stream",
          "text": [
            "[-15.31364696  -2.693868    -5.28939766]\n"
          ],
          "name": "stdout"
        }
      ]
    },
    {
      "cell_type": "code",
      "metadata": {
        "id": "5ZkYM5IiW_82",
        "colab_type": "code",
        "colab": {}
      },
      "source": [
        "import numpy as np\n",
        "\n",
        "import pylab\n",
        "from matplotlib.pyplot import figure"
      ],
      "execution_count": 7,
      "outputs": []
    },
    {
      "cell_type": "markdown",
      "metadata": {
        "id": "8g9t7UNPRTY4",
        "colab_type": "text"
      },
      "source": [
        "## Made boundaries"
      ]
    },
    {
      "cell_type": "code",
      "metadata": {
        "id": "buLQ7p9543q9",
        "colab_type": "code",
        "colab": {
          "base_uri": "https://localhost:8080/",
          "height": 312
        },
        "outputId": "19937ed3-f949-4af7-d5ca-0e2379bfd498"
      },
      "source": [
        "x_min, x_max = X_train[:, 0].min() - .5, X_train[:, 0].max() + .5\n",
        "\n",
        "y_min, y_max = X_train[:, 1].min() - .5, X_train[:, 1].max() + .5\n",
        "figure(figsize=(10, 6), dpi=80)\n",
        "xs = np.arange(x_min, x_max, 0.5)\n",
        "fig, axes = plt.subplots(1, 3)\n",
        "\n",
        "\n",
        "for i in [0, 1, 2]:\n",
        "\n",
        "  axes[i].set_title('Class'+ str(i) + ' verus the rest')\n",
        "  axes[i].set_xlabel('Sepal length')\n",
        "  axes[i].set_ylabel('Sepal Width')\n",
        "  axes[i].set_xlim(x_min, x_max)\n",
        "  axes[i].set_ylim(y_min, y_max)\n",
        "\n",
        "  pylab.sca(axes[i])\n",
        "  plt.scatter(X_train[:, 0], X_train[:, 1], c=y_train, cmap=plt.cm.prism)\n",
        "  ys = (-clf.intercept_[i] - xs * clf.coef_[i, 0]) / clf.coef_[i, 1]\n",
        "  plt.plot(xs, ys)\n"
      ],
      "execution_count": 8,
      "outputs": [
        {
          "output_type": "display_data",
          "data": {
            "text/plain": [
              "<Figure size 800x480 with 0 Axes>"
            ]
          },
          "metadata": {
            "tags": []
          }
        },
        {
          "output_type": "display_data",
          "data": {
            "image/png": "[encoded data removed]",
            "text/plain": [
              "<Figure size 432x288 with 3 Axes>"
            ]
          },
          "metadata": {
            "tags": [],
            "needs_background": "light"
          }
        }
      ]
    },
    {
      "cell_type": "code",
      "metadata": {
        "id": "STiAKrDTSW4i",
        "colab_type": "code",
        "colab": {
          "base_uri": "https://localhost:8080/",
          "height": 34
        },
        "outputId": "e0373be6-1d9d-488a-d9e0-bf91a7b1594c"
      },
      "source": [
        "print(clf.predict(scaler.transform([[4.7, 3.1]])))"
      ],
      "execution_count": 9,
      "outputs": [
        {
          "output_type": "stream",
          "text": [
            "[0]\n"
          ],
          "name": "stdout"
        }
      ]
    },
    {
      "cell_type": "code",
      "metadata": {
        "id": "lIu9EDdD43tq",
        "colab_type": "code",
        "colab": {
          "base_uri": "https://localhost:8080/",
          "height": 34
        },
        "outputId": "5847dadd-24de-45ad-8cff-786e9a55c744"
      },
      "source": [
        "print(clf.decision_function(scaler.transform([[4.7, 3.1]])))"
      ],
      "execution_count": 10,
      "outputs": [
        {
          "output_type": "stream",
          "text": [
            "[[ 27.80915871  -3.68672411 -16.30119871]]\n"
          ],
          "name": "stdout"
        }
      ]
    },
    {
      "cell_type": "markdown",
      "metadata": {
        "id": "UqI1NDMxhHMp",
        "colab_type": "text"
      },
      "source": [
        "## Evaluate"
      ]
    },
    {
      "cell_type": "code",
      "metadata": {
        "id": "ffKahAV-43v9",
        "colab_type": "code",
        "colab": {
          "base_uri": "https://localhost:8080/",
          "height": 34
        },
        "outputId": "96bca7e1-a3a3-4556-cdbc-b8fa368de0c6"
      },
      "source": [
        "from sklearn import metrics\n",
        "y_train_pred = clf.predict(X_train)\n",
        "print(metrics.accuracy_score(y_train, y_train_pred))"
      ],
      "execution_count": 11,
      "outputs": [
        {
          "output_type": "stream",
          "text": [
            "0.7083333333333334\n"
          ],
          "name": "stdout"
        }
      ]
    },
    {
      "cell_type": "code",
      "metadata": {
        "id": "ZvetTgl3hx8i",
        "colab_type": "code",
        "colab": {
          "base_uri": "https://localhost:8080/",
          "height": 34
        },
        "outputId": "3c1bfce8-f7ba-4872-eb6e-c1e6e6d37def"
      },
      "source": [
        "y_pred = clf.predict(X_test)\n",
        "print(metrics.accuracy_score(y_test, y_pred))"
      ],
      "execution_count": 12,
      "outputs": [
        {
          "output_type": "stream",
          "text": [
            "0.8\n"
          ],
          "name": "stdout"
        }
      ]
    },
    {
      "cell_type": "code",
      "metadata": {
        "id": "4A2YrOsbiBSd",
        "colab_type": "code",
        "colab": {}
      },
      "source": [
        "## Confusion matrix"
      ],
      "execution_count": 13,
      "outputs": []
    },
    {
      "cell_type": "code",
      "metadata": {
        "id": "8dWeVKG_iB--",
        "colab_type": "code",
        "colab": {
          "base_uri": "https://localhost:8080/",
          "height": 187
        },
        "outputId": "af02eed6-42e7-4d28-de5d-c2686b3b7e62"
      },
      "source": [
        "print(metrics.classification_report(y_test, y_pred, target_names=iris.target_names))"
      ],
      "execution_count": 14,
      "outputs": [
        {
          "output_type": "stream",
          "text": [
            "              precision    recall  f1-score   support\n",
            "\n",
            "      setosa       1.00      1.00      1.00        11\n",
            "  versicolor       0.57      0.57      0.57         7\n",
            "   virginica       0.75      0.75      0.75        12\n",
            "\n",
            "    accuracy                           0.80        30\n",
            "   macro avg       0.77      0.77      0.77        30\n",
            "weighted avg       0.80      0.80      0.80        30\n",
            "\n"
          ],
          "name": "stdout"
        }
      ]
    },
    {
      "cell_type": "code",
      "metadata": {
        "id": "x957jmUzj5RH",
        "colab_type": "code",
        "colab": {
          "base_uri": "https://localhost:8080/",
          "height": 68
        },
        "outputId": "f11d5ef9-0135-4fee-c7c1-954f5735ee91"
      },
      "source": [
        "print(metrics.confusion_matrix(y_test, y_pred))"
      ],
      "execution_count": 15,
      "outputs": [
        {
          "output_type": "stream",
          "text": [
            "[[11  0  0]\n",
            " [ 0  4  3]\n",
            " [ 0  3  9]]\n"
          ],
          "name": "stdout"
        }
      ]
    },
    {
      "cell_type": "code",
      "metadata": {
        "id": "4zUh5OUlkTkC",
        "colab_type": "code",
        "colab": {}
      },
      "source": [
        "from sklearn.model_selection import cross_val_score, KFold\n",
        "\n",
        "from sklearn.pipeline import Pipeline\n",
        "\n",
        "# Create a composite estimator made by a pipeline"
      ],
      "execution_count": 16,
      "outputs": []
    },
    {
      "cell_type": "code",
      "metadata": {
        "id": "eLoVGmQEvuqX",
        "colab_type": "code",
        "colab": {
          "base_uri": "https://localhost:8080/",
          "height": 34
        },
        "outputId": "21b0bb18-d7fe-4e2a-d6a2-2a1a1ed82c14"
      },
      "source": [
        "X.shape[0]"
      ],
      "execution_count": 23,
      "outputs": [
        {
          "output_type": "execute_result",
          "data": {
            "text/plain": [
              "150"
            ]
          },
          "metadata": {
            "tags": []
          },
          "execution_count": 23
        }
      ]
    },
    {
      "cell_type": "code",
      "metadata": {
        "id": "4fi22t48lANQ",
        "colab_type": "code",
        "colab": {
          "base_uri": "https://localhost:8080/",
          "height": 34
        },
        "outputId": "78d07fd5-fb7b-4e4d-829b-4ffc3e0d4f98"
      },
      "source": [
        "\n",
        "clf = Pipeline([('scaler', preprocessing.StandardScaler()),\n",
        "                ('linear_model', SGDClassifier())])\n",
        "\n",
        "cv = KFold(n_splits=5, shuffle=True, random_state=47)\n",
        "\n",
        "scores = cross_val_score(clf, X, y, cv=cv)\n",
        "\n",
        "print(scores)"
      ],
      "execution_count": 27,
      "outputs": [
        {
          "output_type": "stream",
          "text": [
            "[0.86666667 0.83333333 0.83333333 0.5        0.5       ]\n"
          ],
          "name": "stdout"
        }
      ]
    },
    {
      "cell_type": "markdown",
      "metadata": {
        "id": "gSwvwR93IvLq",
        "colab_type": "text"
      },
      "source": [
        "K-scores"
      ]
    },
    {
      "cell_type": "code",
      "metadata": {
        "id": "uPcfkVyjItWS",
        "colab_type": "code",
        "colab": {
          "base_uri": "https://localhost:8080/",
          "height": 34
        },
        "outputId": "d0b35129-d94c-46f4-c9f6-d790c00f362b"
      },
      "source": [
        "from scipy.stats import sem\n",
        "def mean_score(scores):\n",
        "  return (\"Mean score: {0:.3f} (+/- {1:.3f})\").format(np.mean(scores), sem(scores))\n",
        "\n",
        "print(mean_score(scores))"
      ],
      "execution_count": 29,
      "outputs": [
        {
          "output_type": "stream",
          "text": [
            "Mean score: 0.707 (+/- 0.085)\n"
          ],
          "name": "stdout"
        }
      ]
    },
    {
      "cell_type": "code",
      "metadata": {
        "id": "lcVrJh_LKoyo",
        "colab_type": "code",
        "colab": {}
      },
      "source": [
        ""
      ],
      "execution_count": null,
      "outputs": []
    }
  ]
}